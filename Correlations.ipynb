{
  "nbformat": 4,
  "nbformat_minor": 0,
  "metadata": {
    "colab": {
      "provenance": [],
      "authorship_tag": "ABX9TyPBX89mdCs0D5UVWYIh6zkH",
      "include_colab_link": true
    },
    "kernelspec": {
      "name": "python3",
      "display_name": "Python 3"
    },
    "language_info": {
      "name": "python"
    }
  },
  "cells": [
    {
      "cell_type": "markdown",
      "metadata": {
        "id": "view-in-github",
        "colab_type": "text"
      },
      "source": [
        "<a href=\"https://colab.research.google.com/github/bekircan4721/Bekircan_arac-/blob/main/Correlations.ipynb\" target=\"_parent\"><img src=\"https://colab.research.google.com/assets/colab-badge.svg\" alt=\"Open In Colab\"/></a>"
      ]
    },
    {
      "cell_type": "code",
      "source": [
        "import pandas as pd\n",
        "import matplotlib.pyplot as plt\n",
        "import seaborn as sns\n",
        "import numpy as np\n",
        "from scipy.stats import pearsonr, spearmanr, t\n",
        "\n",
        "pd.set_option('display.max_rows', None)\n",
        "pd.set_option('display.max_columns', None)\n",
        "\n",
        "# reading datasets\n",
        "data_shark = pd.read_csv(\"https://raw.githubusercontent.com/bekircan4721/Bekircan_arac-/main/attacks.csv\", encoding=\"unicode_escape\")\n",
        "data_temperature = pd.read_table(\"https://www.ncei.noaa.gov/data/oceans/woa/DATA_ANALYSIS/3M_HEAT_CONTENT/DATA/basin/pentad/pent_h22-w0-2000m.dat\", delim_whitespace=True)\n",
        "\n",
        "# filtering by year\n",
        "data_shark = data_shark[data_shark[\"Year\"].notnull()]\n",
        "data_shark[\"Year\"] = data_shark[\"Year\"].astype(int)\n",
        "\n",
        "# yearly ocean temperatures\n",
        "temperature_by_year = data_temperature[[\"YEAR\", \"WO\"]].copy()\n",
        "temperature_by_year.columns = [\"Year\", \"Ocean_Temperature\"]\n",
        "temperature_by_year[\"Year\"] = temperature_by_year[\"Year\"].round().astype(int)\n",
        "\n",
        "# Get shark attacks by year\n",
        "shark_by_year = data_shark.groupby(\"Year\").size().reset_index(name=\"Attack_Count\")\n",
        "\n",
        "# Merge datasets based on Year\n",
        "merged = pd.merge(shark_by_year, temperature_by_year, on=\"Year\", how=\"left\")\n",
        "merged = merged.dropna(subset=[\"Ocean_Temperature\"])\n",
        "\n",
        "# Pearson Correlation\n",
        "r_pearson, _ = pearsonr(merged['Ocean_Temperature'], merged['Attack_Count'])\n",
        "df = len(merged) - 2 # we have 2 columns thats why len - 2\n",
        "t_stat = r_pearson * np.sqrt(df) / np.sqrt(1 - r_pearson**2)\n",
        "p_value_pearson = 2 * t.sf(np.abs(t_stat), df)\n",
        "\n",
        "# Spearman Correlation\n",
        "r_value_spearman, p_value_spearman = spearmanr(merged['Ocean_Temperature'], merged['Attack_Count'])\n",
        "\n",
        "# Print results\n",
        "print(f\"-----  Pearson Correlation ----- \")\n",
        "print(f\"r (Pearson): {r_pearson:.3f}\")\n",
        "print(f\"t-value: {t_stat:.3f}\")\n",
        "print(f\"Degrees of Freedom: {df}\")\n",
        "print(f\"p-value: {p_value_pearson:.4f}\\n\")\n",
        "\n",
        "print(f\"----- Spearman Correlation ----- \")\n",
        "print(f\"r (Spearman): {r_value_spearman:.3f}\")\n",
        "print(f\"p-value: {p_value_spearman:.4f}\")\n"
      ],
      "metadata": {
        "colab": {
          "base_uri": "https://localhost:8080/"
        },
        "id": "7g4I8lh-mtUY",
        "outputId": "ac031e4b-7daf-4fd8-fbec-aab878fe648d"
      },
      "execution_count": 1,
      "outputs": [
        {
          "output_type": "stream",
          "name": "stderr",
          "text": [
            "<ipython-input-1-6c082dc4e4ef>:12: FutureWarning: The 'delim_whitespace' keyword in pd.read_table is deprecated and will be removed in a future version. Use ``sep='\\s+'`` instead\n",
            "  data_temperature = pd.read_table(\"https://www.ncei.noaa.gov/data/oceans/woa/DATA_ANALYSIS/3M_HEAT_CONTENT/DATA/basin/pentad/pent_h22-w0-2000m.dat\", delim_whitespace=True)\n",
            "<ipython-input-1-6c082dc4e4ef>:16: SettingWithCopyWarning: \n",
            "A value is trying to be set on a copy of a slice from a DataFrame.\n",
            "Try using .loc[row_indexer,col_indexer] = value instead\n",
            "\n",
            "See the caveats in the documentation: https://pandas.pydata.org/pandas-docs/stable/user_guide/indexing.html#returning-a-view-versus-a-copy\n",
            "  data_shark[\"Year\"] = data_shark[\"Year\"].astype(int)\n"
          ]
        },
        {
          "output_type": "stream",
          "name": "stdout",
          "text": [
            "-----  Pearson Correlation ----- \n",
            "r (Pearson): 0.674\n",
            "t-value: 7.062\n",
            "Degrees of Freedom: 60\n",
            "p-value: 0.0000\n",
            "\n",
            "----- Spearman Correlation ----- \n",
            "r (Spearman): 0.567\n",
            "p-value: 0.0000\n"
          ]
        }
      ]
    }
  ]
}